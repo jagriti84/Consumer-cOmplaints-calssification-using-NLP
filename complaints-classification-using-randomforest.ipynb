{
 "cells": [
  {
   "cell_type": "code",
   "execution_count": 1,
   "metadata": {
    "_cell_guid": "b1076dfc-b9ad-4769-8c92-a6c4dae69d19",
    "_uuid": "8f2839f25d086af736a60e9eeb907d3b93b6e0e5",
    "execution": {
     "iopub.execute_input": "2024-02-27T09:48:42.872369Z",
     "iopub.status.busy": "2024-02-27T09:48:42.871878Z",
     "iopub.status.idle": "2024-02-27T09:48:44.318035Z",
     "shell.execute_reply": "2024-02-27T09:48:44.316468Z",
     "shell.execute_reply.started": "2024-02-27T09:48:42.872316Z"
    }
   },
   "outputs": [],
   "source": [
    "import numpy as np # linear algebra\n",
    "import pandas as pd # data processing, CSV file I/O (e.g. pd.read_csv)\n",
    "import re\n",
    "import string\n",
    "import nltk        \n",
    "from sklearn.feature_extraction.text import TfidfVectorizer\n",
    "from sklearn.ensemble import RandomForestClassifier\n",
    "from sklearn.model_selection import train_test_split\n",
    "from sklearn.metrics import confusion_matrix, classification_report ,ConfusionMatrixDisplay\n",
    "import matplotlib.pyplot as plt"
   ]
  },
  {
   "cell_type": "code",
   "execution_count": 3,
   "metadata": {
    "execution": {
     "iopub.execute_input": "2024-02-27T09:48:44.334252Z",
     "iopub.status.busy": "2024-02-27T09:48:44.332957Z",
     "iopub.status.idle": "2024-02-27T09:48:45.705046Z",
     "shell.execute_reply": "2024-02-27T09:48:45.703843Z",
     "shell.execute_reply.started": "2024-02-27T09:48:44.334217Z"
    }
   },
   "outputs": [
    {
     "data": {
      "text/html": [
       "<div>\n",
       "<style scoped>\n",
       "    .dataframe tbody tr th:only-of-type {\n",
       "        vertical-align: middle;\n",
       "    }\n",
       "\n",
       "    .dataframe tbody tr th {\n",
       "        vertical-align: top;\n",
       "    }\n",
       "\n",
       "    .dataframe thead th {\n",
       "        text-align: right;\n",
       "    }\n",
       "</style>\n",
       "<table border=\"1\" class=\"dataframe\">\n",
       "  <thead>\n",
       "    <tr style=\"text-align: right;\">\n",
       "      <th></th>\n",
       "      <th>Unnamed: 0</th>\n",
       "      <th>product</th>\n",
       "      <th>narrative</th>\n",
       "    </tr>\n",
       "  </thead>\n",
       "  <tbody>\n",
       "    <tr>\n",
       "      <th>0</th>\n",
       "      <td>0</td>\n",
       "      <td>credit_card</td>\n",
       "      <td>purchase order day shipping amount receive pro...</td>\n",
       "    </tr>\n",
       "    <tr>\n",
       "      <th>1</th>\n",
       "      <td>1</td>\n",
       "      <td>credit_card</td>\n",
       "      <td>forwarded message date tue subject please inve...</td>\n",
       "    </tr>\n",
       "    <tr>\n",
       "      <th>2</th>\n",
       "      <td>2</td>\n",
       "      <td>retail_banking</td>\n",
       "      <td>forwarded message cc sent friday pdt subject f...</td>\n",
       "    </tr>\n",
       "    <tr>\n",
       "      <th>3</th>\n",
       "      <td>3</td>\n",
       "      <td>credit_reporting</td>\n",
       "      <td>payment history missing credit report speciali...</td>\n",
       "    </tr>\n",
       "    <tr>\n",
       "      <th>4</th>\n",
       "      <td>4</td>\n",
       "      <td>credit_reporting</td>\n",
       "      <td>payment history missing credit report made mis...</td>\n",
       "    </tr>\n",
       "  </tbody>\n",
       "</table>\n",
       "</div>"
      ],
      "text/plain": [
       "   Unnamed: 0           product  \\\n",
       "0           0       credit_card   \n",
       "1           1       credit_card   \n",
       "2           2    retail_banking   \n",
       "3           3  credit_reporting   \n",
       "4           4  credit_reporting   \n",
       "\n",
       "                                           narrative  \n",
       "0  purchase order day shipping amount receive pro...  \n",
       "1  forwarded message date tue subject please inve...  \n",
       "2  forwarded message cc sent friday pdt subject f...  \n",
       "3  payment history missing credit report speciali...  \n",
       "4  payment history missing credit report made mis...  "
      ]
     },
     "execution_count": 3,
     "metadata": {},
     "output_type": "execute_result"
    }
   ],
   "source": [
    "df = pd.read_csv(\"C:/Users/jagri/Downloads/archive (11).zip\")\n",
    "df.head()"
   ]
  },
  {
   "cell_type": "code",
   "execution_count": 14,
   "metadata": {},
   "outputs": [],
   "source": [
    "df.drop(columns='Unnamed: 0',inplace = True)"
   ]
  },
  {
   "cell_type": "code",
   "execution_count": 15,
   "metadata": {},
   "outputs": [
    {
     "data": {
      "text/html": [
       "<div>\n",
       "<style scoped>\n",
       "    .dataframe tbody tr th:only-of-type {\n",
       "        vertical-align: middle;\n",
       "    }\n",
       "\n",
       "    .dataframe tbody tr th {\n",
       "        vertical-align: top;\n",
       "    }\n",
       "\n",
       "    .dataframe thead th {\n",
       "        text-align: right;\n",
       "    }\n",
       "</style>\n",
       "<table border=\"1\" class=\"dataframe\">\n",
       "  <thead>\n",
       "    <tr style=\"text-align: right;\">\n",
       "      <th></th>\n",
       "      <th>product</th>\n",
       "      <th>narrative</th>\n",
       "    </tr>\n",
       "  </thead>\n",
       "  <tbody>\n",
       "    <tr>\n",
       "      <th>0</th>\n",
       "      <td>credit_card</td>\n",
       "      <td>purchase order day shipping amount receive pro...</td>\n",
       "    </tr>\n",
       "    <tr>\n",
       "      <th>1</th>\n",
       "      <td>credit_card</td>\n",
       "      <td>forwarded message date tue subject please inve...</td>\n",
       "    </tr>\n",
       "    <tr>\n",
       "      <th>2</th>\n",
       "      <td>retail_banking</td>\n",
       "      <td>forwarded message cc sent friday pdt subject f...</td>\n",
       "    </tr>\n",
       "    <tr>\n",
       "      <th>3</th>\n",
       "      <td>credit_reporting</td>\n",
       "      <td>payment history missing credit report speciali...</td>\n",
       "    </tr>\n",
       "    <tr>\n",
       "      <th>4</th>\n",
       "      <td>credit_reporting</td>\n",
       "      <td>payment history missing credit report made mis...</td>\n",
       "    </tr>\n",
       "  </tbody>\n",
       "</table>\n",
       "</div>"
      ],
      "text/plain": [
       "            product                                          narrative\n",
       "0       credit_card  purchase order day shipping amount receive pro...\n",
       "1       credit_card  forwarded message date tue subject please inve...\n",
       "2    retail_banking  forwarded message cc sent friday pdt subject f...\n",
       "3  credit_reporting  payment history missing credit report speciali...\n",
       "4  credit_reporting  payment history missing credit report made mis..."
      ]
     },
     "execution_count": 15,
     "metadata": {},
     "output_type": "execute_result"
    }
   ],
   "source": [
    "df.head()"
   ]
  },
  {
   "cell_type": "code",
   "execution_count": 4,
   "metadata": {
    "execution": {
     "iopub.execute_input": "2024-02-27T09:48:45.707803Z",
     "iopub.status.busy": "2024-02-27T09:48:45.707016Z",
     "iopub.status.idle": "2024-02-27T09:48:45.785234Z",
     "shell.execute_reply": "2024-02-27T09:48:45.783598Z",
     "shell.execute_reply.started": "2024-02-27T09:48:45.707757Z"
    }
   },
   "outputs": [
    {
     "name": "stdout",
     "output_type": "stream",
     "text": [
      "--> There are 162421 rows and 3 columns\n",
      "\n",
      "===========================================================\n",
      "\n",
      "--> Missing Values:\n",
      "\n",
      " Unnamed: 0     0\n",
      "product        0\n",
      "narrative     10\n",
      "dtype: int64\n",
      "\n",
      "===========================================================\n",
      "\n",
      "Product Counts:\n",
      "\n",
      " credit_reporting       91179\n",
      "debt_collection        23150\n",
      "mortgages_and_loans    18990\n",
      "credit_card            15566\n",
      "retail_banking         13536\n",
      "Name: product, dtype: int64\n"
     ]
    }
   ],
   "source": [
    "print('--> There are',df.shape[0],'rows and',df.shape[1],'columns')\n",
    "print('\\n===========================================================\\n')\n",
    "print('--> Missing Values:\\n\\n',df.isna().sum())\n",
    "print('\\n===========================================================\\n')\n",
    "print('Product Counts:\\n\\n',df['product'].value_counts())"
   ]
  },
  {
   "cell_type": "code",
   "execution_count": 5,
   "metadata": {
    "execution": {
     "iopub.execute_input": "2024-02-27T09:48:45.789278Z",
     "iopub.status.busy": "2024-02-27T09:48:45.788869Z",
     "iopub.status.idle": "2024-02-27T09:48:48.927085Z",
     "shell.execute_reply": "2024-02-27T09:48:48.92586Z",
     "shell.execute_reply.started": "2024-02-27T09:48:45.789246Z"
    }
   },
   "outputs": [],
   "source": [
    "## preprocessing \n",
    "df.dropna(axis=0,inplace=True) # drop na values\n",
    "data = df[['product','narrative']].sample(n=10000) #sampling \n",
    "\n",
    "stopwords = nltk.corpus.stopwords.words('english')\n",
    "def text_clean(text):\n",
    "    \"\"\"\n",
    "    The function performs following tasks:\n",
    "    1. Lower text\n",
    "    2. Remove digits\n",
    "    3. Dropping words with less than 3 character\n",
    "    4. Remove white space\n",
    "    5. Remove Stopwords\n",
    "    \"\"\"\n",
    "    clean_words = []\n",
    "    \n",
    "    word_list = text.split() #Convert to list\n",
    "    for word in word_list:\n",
    "        word_l = word.lower().strip()\n",
    "        if word_l.isalpha():\n",
    "            if len(word_l) > 3:\n",
    "                if word_l not in stopwords :\n",
    "                    clean_words.append(word_l)\n",
    "                else:\n",
    "                    continue\n",
    "    return clean_words \n",
    "tfidf = TfidfVectorizer(analyzer=text_clean)\n",
    "x_tfidf = tfidf.fit_transform(data['narrative'])"
   ]
  },
  {
   "cell_type": "code",
   "execution_count": 6,
   "metadata": {
    "execution": {
     "iopub.execute_input": "2024-02-27T09:48:48.929083Z",
     "iopub.status.busy": "2024-02-27T09:48:48.928693Z",
     "iopub.status.idle": "2024-02-27T09:48:48.938107Z",
     "shell.execute_reply": "2024-02-27T09:48:48.936678Z",
     "shell.execute_reply.started": "2024-02-27T09:48:48.92905Z"
    }
   },
   "outputs": [
    {
     "data": {
      "text/plain": [
       "(10000, 12922)"
      ]
     },
     "execution_count": 6,
     "metadata": {},
     "output_type": "execute_result"
    }
   ],
   "source": [
    "x_tfidf.shape"
   ]
  },
  {
   "cell_type": "code",
   "execution_count": 7,
   "metadata": {
    "execution": {
     "iopub.execute_input": "2024-02-27T09:48:48.941123Z",
     "iopub.status.busy": "2024-02-27T09:48:48.939915Z",
     "iopub.status.idle": "2024-02-27T09:48:48.954694Z",
     "shell.execute_reply": "2024-02-27T09:48:48.953545Z",
     "shell.execute_reply.started": "2024-02-27T09:48:48.941089Z"
    }
   },
   "outputs": [],
   "source": [
    "X_train, X_test, y_train, y_test = train_test_split(x_tfidf, data['product'], test_size=0.2, random_state=42)"
   ]
  },
  {
   "cell_type": "code",
   "execution_count": 8,
   "metadata": {
    "execution": {
     "iopub.execute_input": "2024-02-27T09:48:48.957524Z",
     "iopub.status.busy": "2024-02-27T09:48:48.956704Z",
     "iopub.status.idle": "2024-02-27T09:48:54.558897Z",
     "shell.execute_reply": "2024-02-27T09:48:54.557882Z",
     "shell.execute_reply.started": "2024-02-27T09:48:48.957491Z"
    }
   },
   "outputs": [],
   "source": [
    "# trainning model \n",
    "rfc = RandomForestClassifier(n_jobs=-1)\n",
    "rfc_model = rfc.fit(X_train,y_train)"
   ]
  },
  {
   "cell_type": "code",
   "execution_count": 9,
   "metadata": {
    "execution": {
     "iopub.execute_input": "2024-02-27T09:48:54.560264Z",
     "iopub.status.busy": "2024-02-27T09:48:54.559968Z",
     "iopub.status.idle": "2024-02-27T09:48:54.662421Z",
     "shell.execute_reply": "2024-02-27T09:48:54.661148Z",
     "shell.execute_reply.started": "2024-02-27T09:48:54.560236Z"
    }
   },
   "outputs": [],
   "source": [
    "prediction = rfc_model.predict(X_test)"
   ]
  },
  {
   "cell_type": "code",
   "execution_count": 10,
   "metadata": {
    "execution": {
     "iopub.execute_input": "2024-02-27T09:48:54.665634Z",
     "iopub.status.busy": "2024-02-27T09:48:54.664084Z",
     "iopub.status.idle": "2024-02-27T09:48:54.782898Z",
     "shell.execute_reply": "2024-02-27T09:48:54.781706Z",
     "shell.execute_reply.started": "2024-02-27T09:48:54.665588Z"
    }
   },
   "outputs": [
    {
     "name": "stdout",
     "output_type": "stream",
     "text": [
      "Confusion Matrix:\n",
      "\n",
      " [[ 104   66    2    3   23]\n",
      " [   3 1104   10    7    2]\n",
      " [   6  138  130   14    3]\n",
      " [   2   59    2  162    3]\n",
      " [   6   20    0    3  128]]\n",
      "\n",
      "\n",
      "Classification Report:\n",
      "\n",
      "                      precision    recall  f1-score   support\n",
      "\n",
      "        credit_card       0.86      0.53      0.65       198\n",
      "   credit_reporting       0.80      0.98      0.88      1126\n",
      "    debt_collection       0.90      0.45      0.60       291\n",
      "mortgages_and_loans       0.86      0.71      0.78       228\n",
      "     retail_banking       0.81      0.82      0.81       157\n",
      "\n",
      "           accuracy                           0.81      2000\n",
      "          macro avg       0.84      0.70      0.74      2000\n",
      "       weighted avg       0.83      0.81      0.80      2000\n",
      "\n"
     ]
    }
   ],
   "source": [
    "print(\"Confusion Matrix:\\n\\n\",confusion_matrix(y_test,prediction))\n",
    "print(\"\\n\")\n",
    "print(\"Classification Report:\\n\\n\",classification_report(y_test,prediction))"
   ]
  },
  {
   "cell_type": "code",
   "execution_count": 11,
   "metadata": {
    "execution": {
     "iopub.execute_input": "2024-02-27T09:48:54.785554Z",
     "iopub.status.busy": "2024-02-27T09:48:54.784778Z",
     "iopub.status.idle": "2024-02-27T09:48:55.146439Z",
     "shell.execute_reply": "2024-02-27T09:48:55.144544Z",
     "shell.execute_reply.started": "2024-02-27T09:48:54.785511Z"
    }
   },
   "outputs": [
    {
     "data": {
      "text/plain": [
       "<Figure size 1000x1000 with 0 Axes>"
      ]
     },
     "metadata": {},
     "output_type": "display_data"
    },
    {
     "data": {
      "image/png": "[encoded data removed]",
      "text/plain": [
       "<Figure size 640x480 with 2 Axes>"
      ]
     },
     "metadata": {},
     "output_type": "display_data"
    }
   ],
   "source": [
    "class_names = ['credit_card','credit_reporting','debt_collection','mortgages_and_loans','retail_banking']\n",
    "plt.figure(figsize=(10,10))\n",
    "disp = ConfusionMatrixDisplay(confusion_matrix(y_test,prediction),display_labels=class_names)\n",
    "disp.plot()  \n",
    "plt.xticks(rotation=90)\n",
    "plt.title(\"Confusion Matrix\")\n",
    "plt.show()\n"
   ]
  },
  {
   "cell_type": "code",
   "execution_count": 18,
   "metadata": {},
   "outputs": [
    {
     "ename": "TypeError",
     "evalue": "can't multiply sequence by non-int of type 'str'",
     "output_type": "error",
     "traceback": [
      "\u001b[1;31m---------------------------------------------------------------------------\u001b[0m",
      "\u001b[1;31mTypeError\u001b[0m                                 Traceback (most recent call last)",
      "\u001b[1;32m~\\AppData\\Local\\Temp\\ipykernel_22384\\1425800024.py\u001b[0m in \u001b[0;36m<module>\u001b[1;34m\u001b[0m\n\u001b[0;32m     24\u001b[0m \u001b[1;33m\u001b[0m\u001b[0m\n\u001b[0;32m     25\u001b[0m \u001b[1;31m# Calculate metrics\u001b[0m\u001b[1;33m\u001b[0m\u001b[1;33m\u001b[0m\u001b[0m\n\u001b[1;32m---> 26\u001b[1;33m \u001b[0mresults\u001b[0m \u001b[1;33m=\u001b[0m \u001b[0mcalculate_metrics\u001b[0m\u001b[1;33m(\u001b[0m\u001b[0mdata\u001b[0m\u001b[1;33m)\u001b[0m\u001b[1;33m\u001b[0m\u001b[1;33m\u001b[0m\u001b[0m\n\u001b[0m\u001b[0;32m     27\u001b[0m \u001b[1;33m\u001b[0m\u001b[0m\n\u001b[0;32m     28\u001b[0m \u001b[1;31m# Print results\u001b[0m\u001b[1;33m\u001b[0m\u001b[1;33m\u001b[0m\u001b[0m\n",
      "\u001b[1;32m~\\AppData\\Local\\Temp\\ipykernel_22384\\1425800024.py\u001b[0m in \u001b[0;36mcalculate_metrics\u001b[1;34m(data)\u001b[0m\n\u001b[0;32m     13\u001b[0m             \u001b[0mrow_j\u001b[0m \u001b[1;33m=\u001b[0m \u001b[0mdf\u001b[0m\u001b[1;33m.\u001b[0m\u001b[0miloc\u001b[0m\u001b[1;33m[\u001b[0m\u001b[0mj\u001b[0m\u001b[1;33m]\u001b[0m\u001b[1;33m\u001b[0m\u001b[1;33m\u001b[0m\u001b[0m\n\u001b[0;32m     14\u001b[0m \u001b[1;33m\u001b[0m\u001b[0m\n\u001b[1;32m---> 15\u001b[1;33m             \u001b[0mcosine_sim\u001b[0m \u001b[1;33m=\u001b[0m \u001b[1;36m1\u001b[0m \u001b[1;33m-\u001b[0m \u001b[0mcosine\u001b[0m\u001b[1;33m(\u001b[0m\u001b[0mrow_i\u001b[0m\u001b[1;33m,\u001b[0m \u001b[0mrow_j\u001b[0m\u001b[1;33m)\u001b[0m\u001b[1;33m\u001b[0m\u001b[1;33m\u001b[0m\u001b[0m\n\u001b[0m\u001b[0;32m     16\u001b[0m             \u001b[0meucl_dist\u001b[0m \u001b[1;33m=\u001b[0m \u001b[0meuclidean\u001b[0m\u001b[1;33m(\u001b[0m\u001b[0mrow_i\u001b[0m\u001b[1;33m,\u001b[0m \u001b[0mrow_j\u001b[0m\u001b[1;33m)\u001b[0m\u001b[1;33m\u001b[0m\u001b[1;33m\u001b[0m\u001b[0m\n\u001b[0;32m     17\u001b[0m             \u001b[0mmanh_dist\u001b[0m \u001b[1;33m=\u001b[0m \u001b[0mcityblock\u001b[0m\u001b[1;33m(\u001b[0m\u001b[0mrow_i\u001b[0m\u001b[1;33m,\u001b[0m \u001b[0mrow_j\u001b[0m\u001b[1;33m)\u001b[0m\u001b[1;33m\u001b[0m\u001b[1;33m\u001b[0m\u001b[0m\n",
      "\u001b[1;32m~\\anaconda3\\lib\\site-packages\\scipy\\spatial\\distance.py\u001b[0m in \u001b[0;36mcosine\u001b[1;34m(u, v, w)\u001b[0m\n\u001b[0;32m    666\u001b[0m     \u001b[1;31m#   or 'reflective correlation'\u001b[0m\u001b[1;33m\u001b[0m\u001b[1;33m\u001b[0m\u001b[0m\n\u001b[0;32m    667\u001b[0m     \u001b[1;31m# clamp the result to 0-2\u001b[0m\u001b[1;33m\u001b[0m\u001b[1;33m\u001b[0m\u001b[0m\n\u001b[1;32m--> 668\u001b[1;33m     \u001b[1;32mreturn\u001b[0m \u001b[0mmax\u001b[0m\u001b[1;33m(\u001b[0m\u001b[1;36m0\u001b[0m\u001b[1;33m,\u001b[0m \u001b[0mmin\u001b[0m\u001b[1;33m(\u001b[0m\u001b[0mcorrelation\u001b[0m\u001b[1;33m(\u001b[0m\u001b[0mu\u001b[0m\u001b[1;33m,\u001b[0m \u001b[0mv\u001b[0m\u001b[1;33m,\u001b[0m \u001b[0mw\u001b[0m\u001b[1;33m=\u001b[0m\u001b[0mw\u001b[0m\u001b[1;33m,\u001b[0m \u001b[0mcentered\u001b[0m\u001b[1;33m=\u001b[0m\u001b[1;32mFalse\u001b[0m\u001b[1;33m)\u001b[0m\u001b[1;33m,\u001b[0m \u001b[1;36m2.0\u001b[0m\u001b[1;33m)\u001b[0m\u001b[1;33m)\u001b[0m\u001b[1;33m\u001b[0m\u001b[1;33m\u001b[0m\u001b[0m\n\u001b[0m\u001b[0;32m    669\u001b[0m \u001b[1;33m\u001b[0m\u001b[0m\n\u001b[0;32m    670\u001b[0m \u001b[1;33m\u001b[0m\u001b[0m\n",
      "\u001b[1;32m~\\anaconda3\\lib\\site-packages\\scipy\\spatial\\distance.py\u001b[0m in \u001b[0;36mcorrelation\u001b[1;34m(u, v, w, centered)\u001b[0m\n\u001b[0;32m    615\u001b[0m         \u001b[0mu\u001b[0m \u001b[1;33m=\u001b[0m \u001b[0mu\u001b[0m \u001b[1;33m-\u001b[0m \u001b[0mumu\u001b[0m\u001b[1;33m\u001b[0m\u001b[1;33m\u001b[0m\u001b[0m\n\u001b[0;32m    616\u001b[0m         \u001b[0mv\u001b[0m \u001b[1;33m=\u001b[0m \u001b[0mv\u001b[0m \u001b[1;33m-\u001b[0m \u001b[0mvmu\u001b[0m\u001b[1;33m\u001b[0m\u001b[1;33m\u001b[0m\u001b[0m\n\u001b[1;32m--> 617\u001b[1;33m     \u001b[0muv\u001b[0m \u001b[1;33m=\u001b[0m \u001b[0mnp\u001b[0m\u001b[1;33m.\u001b[0m\u001b[0maverage\u001b[0m\u001b[1;33m(\u001b[0m\u001b[0mu\u001b[0m \u001b[1;33m*\u001b[0m \u001b[0mv\u001b[0m\u001b[1;33m,\u001b[0m \u001b[0mweights\u001b[0m\u001b[1;33m=\u001b[0m\u001b[0mw\u001b[0m\u001b[1;33m)\u001b[0m\u001b[1;33m\u001b[0m\u001b[1;33m\u001b[0m\u001b[0m\n\u001b[0m\u001b[0;32m    618\u001b[0m     \u001b[0muu\u001b[0m \u001b[1;33m=\u001b[0m \u001b[0mnp\u001b[0m\u001b[1;33m.\u001b[0m\u001b[0maverage\u001b[0m\u001b[1;33m(\u001b[0m\u001b[0mnp\u001b[0m\u001b[1;33m.\u001b[0m\u001b[0msquare\u001b[0m\u001b[1;33m(\u001b[0m\u001b[0mu\u001b[0m\u001b[1;33m)\u001b[0m\u001b[1;33m,\u001b[0m \u001b[0mweights\u001b[0m\u001b[1;33m=\u001b[0m\u001b[0mw\u001b[0m\u001b[1;33m)\u001b[0m\u001b[1;33m\u001b[0m\u001b[1;33m\u001b[0m\u001b[0m\n\u001b[0;32m    619\u001b[0m     \u001b[0mvv\u001b[0m \u001b[1;33m=\u001b[0m \u001b[0mnp\u001b[0m\u001b[1;33m.\u001b[0m\u001b[0maverage\u001b[0m\u001b[1;33m(\u001b[0m\u001b[0mnp\u001b[0m\u001b[1;33m.\u001b[0m\u001b[0msquare\u001b[0m\u001b[1;33m(\u001b[0m\u001b[0mv\u001b[0m\u001b[1;33m)\u001b[0m\u001b[1;33m,\u001b[0m \u001b[0mweights\u001b[0m\u001b[1;33m=\u001b[0m\u001b[0mw\u001b[0m\u001b[1;33m)\u001b[0m\u001b[1;33m\u001b[0m\u001b[1;33m\u001b[0m\u001b[0m\n",
      "\u001b[1;31mTypeError\u001b[0m: can't multiply sequence by non-int of type 'str'"
     ]
    }
   ],
   "source": [
    "import pandas as pd\n",
    "import numpy as np\n",
    "from scipy.spatial.distance import cosine, euclidean, cityblock\n",
    "\n",
    "# Function to calculate distances and similarities\n",
    "def calculate_metrics(data):\n",
    "    num_rows = data.shape[0]\n",
    "    metrics = {'cosine_similarity': [], 'euclidean_distance': [], 'manhattan_distance': []}\n",
    "    \n",
    "    for i in range(num_rows):\n",
    "        for j in range(i + 1, num_rows):\n",
    "            row_i = df.iloc[i]\n",
    "            row_j = df.iloc[j]\n",
    "            \n",
    "            cosine_sim = 1 - cosine(row_i, row_j)\n",
    "            eucl_dist = euclidean(row_i, row_j)\n",
    "            manh_dist = cityblock(row_i, row_j)\n",
    "            \n",
    "            metrics['cosine_similarity'].append((i, j, cosine_sim))\n",
    "            metrics['euclidean_distance'].append((i, j, eucl_dist))\n",
    "            metrics['manhattan_distance'].append((i, j, manh_dist))\n",
    "    \n",
    "    return metrics\n",
    "\n",
    "# Calculate metrics\n",
    "results = calculate_metrics(data)\n",
    "\n",
    "# Print results\n",
    "print(\"Cosine Similarity:\")\n",
    "for res in results['cosine_similarity']:\n",
    "    print(f\"Between rows {res[0]} and {res[1]}: {res[2]}\")\n",
    "\n",
    "print(\"\\nEuclidean Distance:\")\n",
    "for res in results['euclidean_distance']:\n",
    "    print(f\"Between rows {res[0]} and {res[1]}: {res[2]}\")\n",
    "\n",
    "print(\"\\nManhattan Distance:\")\n",
    "for res in results['manhattan_distance']:\n",
    "    print(f\"Between rows {res[0]} and {res[1]}: {res[2]}\")\n"
   ]
  },
  {
   "cell_type": "code",
   "execution_count": null,
   "metadata": {},
   "outputs": [],
   "source": []
  }
 ],
 "metadata": {
  "kaggle": {
   "accelerator": "none",
   "dataSources": [
    {
     "datasetId": 1363681,
     "sourceId": 2265312,
     "sourceType": "datasetVersion"
    }
   ],
   "dockerImageVersionId": 30646,
   "isGpuEnabled": false,
   "isInternetEnabled": false,
   "language": "python",
   "sourceType": "notebook"
  },
  "kernelspec": {
   "display_name": "Python 3 (ipykernel)",
   "language": "python",
   "name": "python3"
  },
  "language_info": {
   "codemirror_mode": {
    "name": "ipython",
    "version": 3
   },
   "file_extension": ".py",
   "mimetype": "text/x-python",
   "name": "python",
   "nbconvert_exporter": "python",
   "pygments_lexer": "ipython3",
   "version": "3.9.13"
  }
 },
 "nbformat": 4,
 "nbformat_minor": 4
}
